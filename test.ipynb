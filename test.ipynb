{
 "cells": [
  {
   "cell_type": "code",
   "execution_count": 38,
   "metadata": {},
   "outputs": [
    {
     "data": {
      "text/plain": [
       "True"
      ]
     },
     "execution_count": 38,
     "metadata": {},
     "output_type": "execute_result"
    }
   ],
   "source": [
    "from dotenv import load_dotenv\n",
    "import os\n",
    "from langchain.sql_database import SQLDatabase\n",
    "import google.generativeai as ai\n",
    "load_dotenv()"
   ]
  },
  {
   "cell_type": "code",
   "execution_count": 39,
   "metadata": {},
   "outputs": [],
   "source": [
    "ai.configure(api_key=os.getenv('GOOGLE_API_KEY'))"
   ]
  },
  {
   "cell_type": "code",
   "execution_count": 41,
   "metadata": {},
   "outputs": [],
   "source": [
    "#function to laod google gemini model and provide sql query for response\n",
    "\n",
    "def get_gemin_response(question,propmpt):\n",
    "    model = ai.GenerativeModel('gemini-pro')\n",
    "    response = model.generate_content([propmpt,question])\n",
    "    return response.text"
   ]
  },
  {
   "cell_type": "code",
   "execution_count": 16,
   "metadata": {},
   "outputs": [
    {
     "name": "stdout",
     "output_type": "stream",
     "text": [
      "(7369, 'SMITH', 'CLERK', 7902, datetime.date(1980, 12, 17), Decimal('800.00'), None, 20)\n",
      "(7499, 'ALLEN', 'SALESMAN', 7698, datetime.date(1981, 2, 20), Decimal('1600.00'), Decimal('300.00'), 30)\n",
      "(7521, 'WARD', 'SALESMAN', 7698, datetime.date(1981, 2, 22), Decimal('1250.00'), Decimal('500.00'), 30)\n",
      "(7566, 'JONES', 'MANAGER', 7839, datetime.date(1981, 4, 2), Decimal('2975.00'), None, 20)\n",
      "(7654, 'MARTIN', 'SALESMAN', 7698, datetime.date(1981, 9, 28), Decimal('1250.00'), Decimal('1400.00'), 30)\n",
      "(7698, 'BLAKE', 'MANAGER', 7839, datetime.date(1981, 5, 1), Decimal('2850.00'), None, 30)\n",
      "(7782, 'CLARK', 'MANAGER', 7839, datetime.date(1981, 6, 9), Decimal('2450.00'), None, 10)\n",
      "(7788, 'SCOTT', 'ANALYST', 7566, datetime.date(1987, 4, 19), Decimal('3000.00'), None, 20)\n",
      "(7839, 'KING', 'PRESIDENT', None, datetime.date(1981, 11, 17), Decimal('5000.00'), None, 10)\n",
      "(7844, 'TURNER', 'SALESMAN', 7698, datetime.date(1981, 9, 8), Decimal('1500.00'), Decimal('0.00'), 30)\n",
      "(7876, 'ADAMS', 'CLERK', 7788, datetime.date(1987, 5, 23), Decimal('1100.00'), None, 20)\n",
      "(7900, 'JAMES', 'CLERK', 7698, datetime.date(1981, 12, 3), Decimal('950.00'), None, 30)\n",
      "(7902, 'FORD', 'ANALYST', 7566, datetime.date(1981, 12, 3), Decimal('3000.00'), None, 20)\n",
      "(7934, 'MILLER', 'CLERK', 7782, datetime.date(1982, 1, 23), Decimal('1300.00'), None, 10)\n"
     ]
    }
   ],
   "source": [
    "import mysql.connector as connector\n",
    "cnx = connector.connect(user='root',\n",
    "                        password='root',\n",
    "                        host='localhost',\n",
    "                        database='lab2')\n",
    "\n",
    "cursor = cnx.cursor()\n",
    "result = cursor.execute(\"SELECT * FROM emp\")\n",
    "rows = cursor.fetchall()\n",
    "for row in rows:\n",
    "    print(row)\n",
    "cnx.close()\n"
   ]
  },
  {
   "cell_type": "code",
   "execution_count": 42,
   "metadata": {},
   "outputs": [],
   "source": [
    "## Function to retrive query from sql database \n",
    "\n",
    "def read_sql_query(sql):\n",
    "    cnx = connector.connect(user='root',\n",
    "                            password='root',\n",
    "                            host='localhost',\n",
    "                            database='mobile')\n",
    "    cursor = cnx.cursor()\n",
    "    cursor.execute(sql)\n",
    "    rows = cursor.fetchall()\n",
    "    cnx.close()\n",
    "    # for row in rows:\n",
    "    #     print(row)\n",
    "    return rows\n",
    "\n"
   ]
  },
  {
   "cell_type": "code",
   "execution_count": 45,
   "metadata": {},
   "outputs": [],
   "source": [
    "prompt =\"\"\"\n",
    "You are an expert in converting English questions to SQL queries!\n",
    "The SQL database has the name 'MOBILE' and the following columns: \n",
    "Brand, Model, Storage, RAM, Screen Size (inches), Camera (MP), \n",
    "Battery Capacity (mAh), Price, Min_price.\n",
    "\n",
    "Here are some example translations:\n",
    "\n",
    "Example 1:\n",
    "Question: \"How many mobile entries are in the database?\"\n",
    "SQL: SELECT COUNT(*) FROM MOBILE;\n",
    "\n",
    "Example 2:\n",
    "Question: \"Show me all the mobiles from the brand Apple.\"\n",
    "SQL: SELECT * FROM MOBILE WHERE BRAND = 'Apple';\n",
    "\n",
    "Example 3:\n",
    "Question: \"List all mobiles under $500.\"\n",
    "SQL: SELECT * FROM MOBILE WHERE PRICE < 500;\n",
    "\n",
    "Instructions:\n",
    "- Translate each English question into an SQL query based on the provided table structure.\n",
    "- Do not include `'''` at the beginning or end of the SQL code.\n",
    "- Do not use the word 'SQL' in the response.\n",
    "- Ensure that the generated SQL queries are syntactically correct.\n",
    "\"\"\" "
   ]
  },
  {
   "cell_type": "code",
   "execution_count": 54,
   "metadata": {},
   "outputs": [
    {
     "name": "stdout",
     "output_type": "stream",
     "text": [
      "SELECT * FROM MOBILE WHERE BRAND = 'Samsung' ORDER BY PRICE DESC LIMIT 5;\n"
     ]
    }
   ],
   "source": [
    "ques = 'top 5 most expensvie samsumg phones'\n",
    "response = get_gemin_response(propmpt=prompt,question=ques)\n",
    "print(response)\n"
   ]
  },
  {
   "cell_type": "code",
   "execution_count": 55,
   "metadata": {},
   "outputs": [
    {
     "data": {
      "text/plain": [
       "[('Samsung',\n",
       "  'Galaxy S20 Ultra 5G',\n",
       "  '512',\n",
       "  '16',\n",
       "  6.9,\n",
       "  '108+48+12+3D',\n",
       "  5000,\n",
       "  1399),\n",
       " ('Samsung',\n",
       "  'Galaxy Note 20 Ultra',\n",
       "  '256',\n",
       "  '12',\n",
       "  6.9,\n",
       "  '108+12+12',\n",
       "  4500,\n",
       "  1299),\n",
       " ('Samsung',\n",
       "  'Galaxy S21 Ultra',\n",
       "  '256 GB',\n",
       "  '12 GB',\n",
       "  6.8,\n",
       "  '108 + 10 + 10 + 12',\n",
       "  5000,\n",
       "  1199),\n",
       " ('Samsung',\n",
       "  'Galaxy S21 Ultra 5G',\n",
       "  '256',\n",
       "  '12',\n",
       "  6.8,\n",
       "  '108+10+10+12',\n",
       "  5000,\n",
       "  1199),\n",
       " ('Samsung',\n",
       "  'Galaxy S20 Ultra 5G',\n",
       "  '128',\n",
       "  '12',\n",
       "  6.9,\n",
       "  '108+48+12+0.3',\n",
       "  5000,\n",
       "  1199)]"
      ]
     },
     "execution_count": 55,
     "metadata": {},
     "output_type": "execute_result"
    }
   ],
   "source": [
    "result = read_sql_query(response)\n",
    "result"
   ]
  },
  {
   "cell_type": "code",
   "execution_count": 58,
   "metadata": {},
   "outputs": [
    {
     "name": "stdout",
     "output_type": "stream",
     "text": [
      "Brand: Samsung, Model: Galaxy S20 Ultra 5G, Storage: 512, RAM: 16, Screen Size (inches): 6.9, Camera (MP): 108+48+12+3D, Battery Capacity (mAh): 5000, Price: 1399\n",
      "Brand: Samsung, Model: Galaxy Note 20 Ultra, Storage: 256, RAM: 12, Screen Size (inches): 6.9, Camera (MP): 108+12+12, Battery Capacity (mAh): 4500, Price: 1299\n",
      "Brand: Samsung, Model: Galaxy S21 Ultra, Storage: 256 GB, RAM: 12 GB, Screen Size (inches): 6.8, Camera (MP): 108 + 10 + 10 + 12, Battery Capacity (mAh): 5000, Price: 1199\n",
      "Brand: Samsung, Model: Galaxy S21 Ultra 5G, Storage: 256, RAM: 12, Screen Size (inches): 6.8, Camera (MP): 108+10+10+12, Battery Capacity (mAh): 5000, Price: 1199\n",
      "Brand: Samsung, Model: Galaxy S20 Ultra 5G, Storage: 128, RAM: 12, Screen Size (inches): 6.9, Camera (MP): 108+48+12+0.3, Battery Capacity (mAh): 5000, Price: 1199\n"
     ]
    }
   ],
   "source": [
    "def sql_result_to_text(column_names, sql_result):\n",
    "    \"\"\"\n",
    "    Convert the SQL result to plain text dynamically based on the column names and result data.\n",
    "    \n",
    "    Args:\n",
    "        column_names (list): List of column names returned by the SQL query.\n",
    "        sql_result (list of tuples): The actual result data (each tuple represents a row).\n",
    "    \n",
    "    Returns:\n",
    "        str: Plain text representation of the SQL result.\n",
    "    \"\"\"\n",
    "    \n",
    "    formatted_rows = []\n",
    "    \n",
    "    \n",
    "    for row in sql_result:\n",
    "        \n",
    "        row_text = []\n",
    "        \n",
    "        for col_name, value in zip(column_names, row):\n",
    "            row_text.append(f\"{col_name}: {value}\")\n",
    "        \n",
    "        formatted_rows.append(\", \".join(row_text))\n",
    "    \n",
    "    \n",
    "    return \"\\n\".join(formatted_rows)\n",
    "\n",
    "# Example usage\n",
    "column_names = ['Brand','Model','Storage','RAM','Screen Size (inches)','Camera (MP)','Battery Capacity (mAh)','Price']  # This would be dynamic in your case\n",
    "sql_result = result\n",
    "\n",
    "# Convert the SQL result to plain text\n",
    "result_text = sql_result_to_text(column_names, sql_result)\n",
    "print(result_text)\n"
   ]
  },
  {
   "cell_type": "code",
   "execution_count": null,
   "metadata": {},
   "outputs": [],
   "source": []
  }
 ],
 "metadata": {
  "kernelspec": {
   "display_name": "env",
   "language": "python",
   "name": "python3"
  },
  "language_info": {
   "codemirror_mode": {
    "name": "ipython",
    "version": 3
   },
   "file_extension": ".py",
   "mimetype": "text/x-python",
   "name": "python",
   "nbconvert_exporter": "python",
   "pygments_lexer": "ipython3",
   "version": "3.9.12"
  }
 },
 "nbformat": 4,
 "nbformat_minor": 2
}
